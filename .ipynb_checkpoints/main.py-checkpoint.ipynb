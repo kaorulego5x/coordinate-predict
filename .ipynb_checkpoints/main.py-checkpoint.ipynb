{
 "cells": [
  {
   "cell_type": "code",
   "execution_count": 1,
   "id": "eef1d818",
   "metadata": {},
   "outputs": [
    {
     "name": "stdout",
     "output_type": "stream",
     "text": [
      "Collecting git+https://github.com/konbraphat51/line_minimum_interception.git\n",
      "  Cloning https://github.com/konbraphat51/line_minimum_interception.git to /private/var/folders/j_/6b6v3sh15494_n31hkc0sh6w0000gn/T/pip-req-build-vvmuxfty\n",
      "  Running command git clone --filter=blob:none --quiet https://github.com/konbraphat51/line_minimum_interception.git /private/var/folders/j_/6b6v3sh15494_n31hkc0sh6w0000gn/T/pip-req-build-vvmuxfty\n",
      "  Resolved https://github.com/konbraphat51/line_minimum_interception.git to commit 805b21443d47cf4c7b9d0c7741255d9a8ff93ada\n",
      "  Preparing metadata (setup.py) ... \u001b[?25ldone\n",
      "\u001b[?25hRequirement already satisfied: scipy in /Users/kaorulego5x/anaconda3/lib/python3.11/site-packages (from line-minimum-interception==0.0.1) (1.10.1)\n",
      "Requirement already satisfied: matplotlib in /Users/kaorulego5x/anaconda3/lib/python3.11/site-packages (from line-minimum-interception==0.0.1) (3.7.1)\n",
      "Requirement already satisfied: contourpy>=1.0.1 in /Users/kaorulego5x/anaconda3/lib/python3.11/site-packages (from matplotlib->line-minimum-interception==0.0.1) (1.0.5)\n",
      "Requirement already satisfied: cycler>=0.10 in /Users/kaorulego5x/anaconda3/lib/python3.11/site-packages (from matplotlib->line-minimum-interception==0.0.1) (0.11.0)\n",
      "Requirement already satisfied: fonttools>=4.22.0 in /Users/kaorulego5x/anaconda3/lib/python3.11/site-packages (from matplotlib->line-minimum-interception==0.0.1) (4.25.0)\n",
      "Requirement already satisfied: kiwisolver>=1.0.1 in /Users/kaorulego5x/anaconda3/lib/python3.11/site-packages (from matplotlib->line-minimum-interception==0.0.1) (1.4.4)\n",
      "Requirement already satisfied: numpy>=1.20 in /Users/kaorulego5x/anaconda3/lib/python3.11/site-packages (from matplotlib->line-minimum-interception==0.0.1) (1.24.3)\n",
      "Requirement already satisfied: packaging>=20.0 in /Users/kaorulego5x/anaconda3/lib/python3.11/site-packages (from matplotlib->line-minimum-interception==0.0.1) (23.0)\n",
      "Requirement already satisfied: pillow>=6.2.0 in /Users/kaorulego5x/anaconda3/lib/python3.11/site-packages (from matplotlib->line-minimum-interception==0.0.1) (9.4.0)\n",
      "Requirement already satisfied: pyparsing>=2.3.1 in /Users/kaorulego5x/anaconda3/lib/python3.11/site-packages (from matplotlib->line-minimum-interception==0.0.1) (3.0.9)\n",
      "Requirement already satisfied: python-dateutil>=2.7 in /Users/kaorulego5x/anaconda3/lib/python3.11/site-packages (from matplotlib->line-minimum-interception==0.0.1) (2.8.2)\n",
      "Requirement already satisfied: six>=1.5 in /Users/kaorulego5x/anaconda3/lib/python3.11/site-packages (from python-dateutil>=2.7->matplotlib->line-minimum-interception==0.0.1) (1.16.0)\n",
      "Building wheels for collected packages: line-minimum-interception\n",
      "  Building wheel for line-minimum-interception (setup.py) ... \u001b[?25ldone\n",
      "\u001b[?25h  Created wheel for line-minimum-interception: filename=line_minimum_interception-0.0.1-py3-none-any.whl size=7252 sha256=19bb4eafb5377c8ef1c38cf008be8e7ebefe8881e35af185764d58a4eca6e513\n",
      "  Stored in directory: /private/var/folders/j_/6b6v3sh15494_n31hkc0sh6w0000gn/T/pip-ephem-wheel-cache-flv7n0sb/wheels/b1/ee/18/89ac51382a56fa5ea4c8c95ec35feeeb577c24ccafe480ecde\n",
      "Successfully built line-minimum-interception\n",
      "Installing collected packages: line-minimum-interception\n",
      "Successfully installed line-minimum-interception-0.0.1\n"
     ]
    }
   ],
   "source": [
    "!pip install git+https://github.com/konbraphat51/line_minimum_interception.git"
   ]
  },
  {
   "cell_type": "code",
   "execution_count": 64,
   "id": "2b98082f",
   "metadata": {},
   "outputs": [],
   "source": [
    "import numpy as np\n",
    "import math\n",
    "from scipy.spatial.transform import Rotation as R"
   ]
  },
  {
   "cell_type": "code",
   "execution_count": 65,
   "id": "c591c41d",
   "metadata": {},
   "outputs": [],
   "source": [
    "# 入力 位置ベクトル、方向ベクトル\n",
    "pos_vec = [0, 0, 0]\n",
    "image_bias = 20"
   ]
  },
  {
   "cell_type": "code",
   "execution_count": 66,
   "id": "1b03eae1",
   "metadata": {},
   "outputs": [],
   "source": [
    "def rotate_vector(v, theta, phi):\n",
    "    \"\"\"\n",
    "    Rotate a 3D vector first around the Z-axis by theta, then rotate in the plane\n",
    "    containing the Z-axis and the vector by phi.\n",
    "\n",
    "    Parameters:\n",
    "    v (array-like): The 3D vector to rotate.\n",
    "    theta (float): The angle in radians to rotate around the Z-axis.\n",
    "    phi (float): The angle in radians to rotate in the Z-vector plane.\n",
    "\n",
    "    Returns:\n",
    "    np.array: The rotated vector.\n",
    "    \"\"\"\n",
    "\n",
    "    # Step 1: Rotate around the Z-axis by theta\n",
    "    rotation_z = R.from_euler('z', theta, degrees=False)\n",
    "    v_rotated = rotation_z.apply(v)\n",
    "\n",
    "    # Step 2: Rotate in the plane containing the Z-axis and the vector by phi\n",
    "    # Find the rotation axis (cross product of Z-axis and the vector)\n",
    "    z_axis = np.array([0, 0, 1])\n",
    "    rotation_axis = np.cross(z_axis, v_rotated)\n",
    "    if np.linalg.norm(rotation_axis) != 0:  # Check if the rotation axis is valid\n",
    "        rotation_axis /= np.linalg.norm(rotation_axis)  # Normalize the rotation axis\n",
    "        rotation_plane = R.from_rotvec(phi * rotation_axis)\n",
    "        v_rotated = rotation_plane.apply(v_rotated)\n",
    "\n",
    "    return v_rotated"
   ]
  },
  {
   "cell_type": "code",
   "execution_count": 67,
   "id": "d56cd2ab",
   "metadata": {},
   "outputs": [],
   "source": [
    "def adjust_vector(v, bb_size, image_size, horizontal_fov):\n",
    "    # YOLOのBBの中心座標分だけ方向ベクトルを補正する関数\n",
    "    bb_center = [axis[0] + axis[1] / 2 for axis in bb_size]\n",
    "    theta = (image_size[0] / 2 - bb_center[0]) / (image_size[0] / 2) * horizontal_fov / 2 * math.pi / 180 #水平方向 左向き正\n",
    "    phi = -(image_size[1] / 2 - bb_center[1]) / (image_size[0] / 2) * horizontal_fov / 2 * math.pi / 180 #鉛直方向 上向き正\n",
    "    \n",
    "    return rotate_vector(v, theta, phi)"
   ]
  },
  {
   "cell_type": "code",
   "execution_count": 68,
   "id": "c4af86c2",
   "metadata": {},
   "outputs": [
    {
     "data": {
      "text/plain": [
       "array([0.79662745, 0.52084344, 0.30676834])"
      ]
     },
     "execution_count": 68,
     "metadata": {},
     "output_type": "execute_result"
    }
   ],
   "source": [
    "dir_vec = [1, 0, 0]\n",
    "bb_size = [[0, 100], [0, 100]] #[[xmin, xmax], [ymin, ymax]]\n",
    "image_size = [1920, 1080]\n",
    "horizontal_fov = 70\n",
    "adjust_vector(dir_vec, bb_size, image_size, horizontal_fov)"
   ]
  },
  {
   "cell_type": "code",
   "execution_count": 69,
   "id": "9395bff1",
   "metadata": {},
   "outputs": [
    {
     "name": "stdout",
     "output_type": "stream",
     "text": [
      "intersection point:\n",
      "(0.999999995576218, 0.5000000026387471, 6.984910982943404e-10)\n",
      "movement vectors:\n",
      "(0.0, 0.5000000026387471, 6.984910982943404e-10)\n",
      "(-4.423782007378918e-09, -0.49999999736125283, 0.0)\n"
     ]
    }
   ],
   "source": [
    "from line_minimum_intersection import Vector, Line, calculate_minimum_movements\n",
    "\n",
    "lines = []\n",
    "lines.append(Line(Vector(0, 0, 0), Vector(1, 0, 0)))\n",
    "lines.append(Line(Vector(1, 1, 1), Vector(0, 0, -1)))\n",
    "\n",
    "movement_vectors = calculate_minimum_movements(lines)\n",
    "\n",
    "print(\"intersection point:\")\n",
    "print(movement_vectors[\"intersection_point\"])\n",
    "\n",
    "print(\"movement vectors:\")\n",
    "for vector in movement_vectors[\"movement_vectors\"]:\n",
    "    print(vector)"
   ]
  },
  {
   "cell_type": "code",
   "execution_count": null,
   "id": "c4565595",
   "metadata": {},
   "outputs": [],
   "source": []
  }
 ],
 "metadata": {
  "kernelspec": {
   "display_name": "Python 3 (ipykernel)",
   "language": "python",
   "name": "python3"
  },
  "language_info": {
   "codemirror_mode": {
    "name": "ipython",
    "version": 3
   },
   "file_extension": ".py",
   "mimetype": "text/x-python",
   "name": "python",
   "nbconvert_exporter": "python",
   "pygments_lexer": "ipython3",
   "version": "3.11.4"
  }
 },
 "nbformat": 4,
 "nbformat_minor": 5
}
