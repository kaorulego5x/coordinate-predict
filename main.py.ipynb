{
 "cells": [
  {
   "cell_type": "code",
   "execution_count": 1,
   "id": "3ea05f8a",
   "metadata": {},
   "outputs": [
    {
     "name": "stdout",
     "output_type": "stream",
     "text": [
      "Collecting git+https://github.com/konbraphat51/line_minimum_interception.git\n",
      "  Cloning https://github.com/konbraphat51/line_minimum_interception.git to /private/var/folders/j_/6b6v3sh15494_n31hkc0sh6w0000gn/T/pip-req-build-vvmuxfty\n",
      "  Running command git clone --filter=blob:none --quiet https://github.com/konbraphat51/line_minimum_interception.git /private/var/folders/j_/6b6v3sh15494_n31hkc0sh6w0000gn/T/pip-req-build-vvmuxfty\n",
      "  Resolved https://github.com/konbraphat51/line_minimum_interception.git to commit 805b21443d47cf4c7b9d0c7741255d9a8ff93ada\n",
      "  Preparing metadata (setup.py) ... \u001b[?25ldone\n",
      "\u001b[?25hRequirement already satisfied: scipy in /Users/kaorulego5x/anaconda3/lib/python3.11/site-packages (from line-minimum-interception==0.0.1) (1.10.1)\n",
      "Requirement already satisfied: matplotlib in /Users/kaorulego5x/anaconda3/lib/python3.11/site-packages (from line-minimum-interception==0.0.1) (3.7.1)\n",
      "Requirement already satisfied: contourpy>=1.0.1 in /Users/kaorulego5x/anaconda3/lib/python3.11/site-packages (from matplotlib->line-minimum-interception==0.0.1) (1.0.5)\n",
      "Requirement already satisfied: cycler>=0.10 in /Users/kaorulego5x/anaconda3/lib/python3.11/site-packages (from matplotlib->line-minimum-interception==0.0.1) (0.11.0)\n",
      "Requirement already satisfied: fonttools>=4.22.0 in /Users/kaorulego5x/anaconda3/lib/python3.11/site-packages (from matplotlib->line-minimum-interception==0.0.1) (4.25.0)\n",
      "Requirement already satisfied: kiwisolver>=1.0.1 in /Users/kaorulego5x/anaconda3/lib/python3.11/site-packages (from matplotlib->line-minimum-interception==0.0.1) (1.4.4)\n",
      "Requirement already satisfied: numpy>=1.20 in /Users/kaorulego5x/anaconda3/lib/python3.11/site-packages (from matplotlib->line-minimum-interception==0.0.1) (1.24.3)\n",
      "Requirement already satisfied: packaging>=20.0 in /Users/kaorulego5x/anaconda3/lib/python3.11/site-packages (from matplotlib->line-minimum-interception==0.0.1) (23.0)\n",
      "Requirement already satisfied: pillow>=6.2.0 in /Users/kaorulego5x/anaconda3/lib/python3.11/site-packages (from matplotlib->line-minimum-interception==0.0.1) (9.4.0)\n",
      "Requirement already satisfied: pyparsing>=2.3.1 in /Users/kaorulego5x/anaconda3/lib/python3.11/site-packages (from matplotlib->line-minimum-interception==0.0.1) (3.0.9)\n",
      "Requirement already satisfied: python-dateutil>=2.7 in /Users/kaorulego5x/anaconda3/lib/python3.11/site-packages (from matplotlib->line-minimum-interception==0.0.1) (2.8.2)\n",
      "Requirement already satisfied: six>=1.5 in /Users/kaorulego5x/anaconda3/lib/python3.11/site-packages (from python-dateutil>=2.7->matplotlib->line-minimum-interception==0.0.1) (1.16.0)\n",
      "Building wheels for collected packages: line-minimum-interception\n",
      "  Building wheel for line-minimum-interception (setup.py) ... \u001b[?25ldone\n",
      "\u001b[?25h  Created wheel for line-minimum-interception: filename=line_minimum_interception-0.0.1-py3-none-any.whl size=7252 sha256=19bb4eafb5377c8ef1c38cf008be8e7ebefe8881e35af185764d58a4eca6e513\n",
      "  Stored in directory: /private/var/folders/j_/6b6v3sh15494_n31hkc0sh6w0000gn/T/pip-ephem-wheel-cache-flv7n0sb/wheels/b1/ee/18/89ac51382a56fa5ea4c8c95ec35feeeb577c24ccafe480ecde\n",
      "Successfully built line-minimum-interception\n",
      "Installing collected packages: line-minimum-interception\n",
      "Successfully installed line-minimum-interception-0.0.1\n"
     ]
    }
   ],
   "source": [
    "!pip install git+https://github.com/konbraphat51/line_minimum_interception.git"
   ]
  },
  {
   "cell_type": "code",
   "execution_count": 2,
   "id": "7c90e6a6",
   "metadata": {},
   "outputs": [
    {
     "name": "stdout",
     "output_type": "stream",
     "text": [
      "intersection point:\n",
      "(0.999999995576218, 0.5000000026387471, 6.984910982943404e-10)\n",
      "movement vectors:\n",
      "(0.0, 0.5000000026387471, 6.984910982943404e-10)\n",
      "(-4.423782007378918e-09, -0.49999999736125283, 0.0)\n"
     ]
    }
   ],
   "source": [
    "from line_minimum_intersection import Vector, Line, calculate_minimum_movements\n",
    "\n",
    "lines = []\n",
    "lines.append(Line(Vector(0, 0, 0), Vector(1, 0, 0)))\n",
    "lines.append(Line(Vector(1, 1, 1), Vector(0, 0, -1)))\n",
    "\n",
    "movement_vectors = calculate_minimum_movements(lines)\n",
    "\n",
    "print(\"intersection point:\")\n",
    "print(movement_vectors[\"intersection_point\"])\n",
    "\n",
    "print(\"movement vectors:\")\n",
    "for vector in movement_vectors[\"movement_vectors\"]:\n",
    "    print(vector)"
   ]
  },
  {
   "cell_type": "code",
   "execution_count": null,
   "id": "ca51a812",
   "metadata": {},
   "outputs": [],
   "source": []
  }
 ],
 "metadata": {
  "kernelspec": {
   "display_name": "Python 3 (ipykernel)",
   "language": "python",
   "name": "python3"
  },
  "language_info": {
   "codemirror_mode": {
    "name": "ipython",
    "version": 3
   },
   "file_extension": ".py",
   "mimetype": "text/x-python",
   "name": "python",
   "nbconvert_exporter": "python",
   "pygments_lexer": "ipython3",
   "version": "3.11.4"
  }
 },
 "nbformat": 4,
 "nbformat_minor": 5
}
