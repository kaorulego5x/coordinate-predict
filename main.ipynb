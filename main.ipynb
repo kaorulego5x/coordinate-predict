{
 "cells": [
  {
   "cell_type": "code",
   "execution_count": 28,
   "id": "eef1d818",
   "metadata": {},
   "outputs": [
    {
     "name": "stdout",
     "output_type": "stream",
     "text": [
      "Collecting git+https://github.com/konbraphat51/line_minimum_interception.git\n",
      "  Cloning https://github.com/konbraphat51/line_minimum_interception.git to /private/var/folders/j_/6b6v3sh15494_n31hkc0sh6w0000gn/T/pip-req-build-mvlrox2k\n",
      "  Running command git clone --filter=blob:none --quiet https://github.com/konbraphat51/line_minimum_interception.git /private/var/folders/j_/6b6v3sh15494_n31hkc0sh6w0000gn/T/pip-req-build-mvlrox2k\n",
      "  Resolved https://github.com/konbraphat51/line_minimum_interception.git to commit 805b21443d47cf4c7b9d0c7741255d9a8ff93ada\n",
      "  Preparing metadata (setup.py) ... \u001b[?25ldone\n",
      "\u001b[?25hRequirement already satisfied: scipy in /Users/kaorulego5x/anaconda3/lib/python3.11/site-packages (from line-minimum-interception==0.0.1) (1.10.1)\n",
      "Requirement already satisfied: matplotlib in /Users/kaorulego5x/anaconda3/lib/python3.11/site-packages (from line-minimum-interception==0.0.1) (3.7.1)\n",
      "Requirement already satisfied: contourpy>=1.0.1 in /Users/kaorulego5x/anaconda3/lib/python3.11/site-packages (from matplotlib->line-minimum-interception==0.0.1) (1.0.5)\n",
      "Requirement already satisfied: cycler>=0.10 in /Users/kaorulego5x/anaconda3/lib/python3.11/site-packages (from matplotlib->line-minimum-interception==0.0.1) (0.11.0)\n",
      "Requirement already satisfied: fonttools>=4.22.0 in /Users/kaorulego5x/anaconda3/lib/python3.11/site-packages (from matplotlib->line-minimum-interception==0.0.1) (4.25.0)\n",
      "Requirement already satisfied: kiwisolver>=1.0.1 in /Users/kaorulego5x/anaconda3/lib/python3.11/site-packages (from matplotlib->line-minimum-interception==0.0.1) (1.4.4)\n",
      "Requirement already satisfied: numpy>=1.20 in /Users/kaorulego5x/anaconda3/lib/python3.11/site-packages (from matplotlib->line-minimum-interception==0.0.1) (1.24.3)\n",
      "Requirement already satisfied: packaging>=20.0 in /Users/kaorulego5x/anaconda3/lib/python3.11/site-packages (from matplotlib->line-minimum-interception==0.0.1) (23.0)\n",
      "Requirement already satisfied: pillow>=6.2.0 in /Users/kaorulego5x/anaconda3/lib/python3.11/site-packages (from matplotlib->line-minimum-interception==0.0.1) (9.4.0)\n",
      "Requirement already satisfied: pyparsing>=2.3.1 in /Users/kaorulego5x/anaconda3/lib/python3.11/site-packages (from matplotlib->line-minimum-interception==0.0.1) (3.0.9)\n",
      "Requirement already satisfied: python-dateutil>=2.7 in /Users/kaorulego5x/anaconda3/lib/python3.11/site-packages (from matplotlib->line-minimum-interception==0.0.1) (2.8.2)\n",
      "Requirement already satisfied: six>=1.5 in /Users/kaorulego5x/anaconda3/lib/python3.11/site-packages (from python-dateutil>=2.7->matplotlib->line-minimum-interception==0.0.1) (1.16.0)\n",
      "\n",
      "\u001b[1m[\u001b[0m\u001b[34;49mnotice\u001b[0m\u001b[1;39;49m]\u001b[0m\u001b[39;49m A new release of pip is available: \u001b[0m\u001b[31;49m23.3.1\u001b[0m\u001b[39;49m -> \u001b[0m\u001b[32;49m23.3.2\u001b[0m\n",
      "\u001b[1m[\u001b[0m\u001b[34;49mnotice\u001b[0m\u001b[1;39;49m]\u001b[0m\u001b[39;49m To update, run: \u001b[0m\u001b[32;49mpip install --upgrade pip\u001b[0m\n"
     ]
    }
   ],
   "source": [
    "!pip install git+https://github.com/konbraphat51/line_minimum_interception.git"
   ]
  },
  {
   "cell_type": "code",
   "execution_count": 29,
   "id": "2b98082f",
   "metadata": {},
   "outputs": [],
   "source": [
    "import numpy as np\n",
    "import math\n",
    "from scipy.spatial.transform import Rotation as R"
   ]
  },
  {
   "cell_type": "code",
   "execution_count": 30,
   "id": "d92496b8",
   "metadata": {},
   "outputs": [],
   "source": [
    "def rotate_vector(vec, theta, phi):\n",
    "    \"\"\"\n",
    "    Rotate a 3D vector first around the Z-axis by theta, then rotate in the plane\n",
    "    containing the Z-axis and the vector by phi.\n",
    "\n",
    "    Parameters:\n",
    "    v (array-like): The 3D vector to rotate.\n",
    "    theta (float): The angle in radians to rotate around the Z-axis.\n",
    "    phi (float): The angle in radians to rotate in the Z-vector plane.\n",
    "\n",
    "    Returns:\n",
    "    np.array: The rotated vector.\n",
    "    \"\"\"\n",
    "\n",
    "    # Step 1: Z軸中心にtheta回転\n",
    "    rotation_z = R.from_euler('z', theta, degrees=False)\n",
    "    v_rotated = rotation_z.apply(vec)\n",
    "\n",
    "    # Step 2: 水平線を中心にphi回転\n",
    "    z_axis = np.array([0, 0, 1])\n",
    "    rotation_axis = np.cross(z_axis, v_rotated)\n",
    "    if np.linalg.norm(rotation_axis) != 0:  # Check if the rotation axis is valid\n",
    "        rotation_axis /= np.linalg.norm(rotation_axis)  # Normalize the rotation axis\n",
    "        rotation_plane = R.from_rotvec(phi * rotation_axis)\n",
    "        v_rotated = rotation_plane.apply(v_rotated)\n",
    "\n",
    "    return v_rotated"
   ]
  },
  {
   "cell_type": "code",
   "execution_count": 31,
   "id": "d56cd2ab",
   "metadata": {},
   "outputs": [],
   "source": [
    "def adjust_vector(pos_vec, dir_vec, bb_size, image_size, horizontal_fov):\n",
    "    # バウンディングボックスのサイズを取得\n",
    "    \n",
    "    \n",
    "    # YOLOのBBの中心座標分だけ方向ベクトルを補正する関数\n",
    "    bb_center = [(axis[0] + axis[1] / 2) for axis in bb_size]\n",
    "    theta = (image_size[0] / 2 - bb_center[0]) / (image_size[0] / 2) * horizontal_fov / 2 * math.pi / 180 #水平方向の回転角 左向き正\n",
    "    phi = -(image_size[1] / 2 - bb_center[1]) / (image_size[0] / 2) * horizontal_fov / 2 * math.pi / 180 #鉛直方向の回転角 上向き正\n",
    "    \n",
    "    return rotate_vector(dir_vec, theta, phi)"
   ]
  },
  {
   "cell_type": "code",
   "execution_count": 32,
   "id": "c4af86c2",
   "metadata": {},
   "outputs": [],
   "source": [
    "class input_set:\n",
    "    def __init__(self, pos_vec, dir_vec, bb_size, image_size):\n",
    "        self.pos_vec = pos_vec\n",
    "        self.dir_vec = dir_vec\n",
    "        self.bb_size = bb_size\n",
    "        self.image_size = image_size"
   ]
  },
  {
   "cell_type": "code",
   "execution_count": 43,
   "id": "403ea876",
   "metadata": {},
   "outputs": [],
   "source": [
    "# input\n",
    "horizontal_fov = 39.6\n",
    "\n",
    "inputs = []\n",
    "inputs.append(input_set([6, 0, 0], [-1, 0, 0], [[616, 311], [964, 618]], [1234, 684]))\n",
    "inputs.append(input_set([0, 6, 0], [0, -1, 0], [[614, 268], [1121, 489]], [1234, 684]))"
   ]
  },
  {
   "cell_type": "code",
   "execution_count": 44,
   "id": "c57d1814",
   "metadata": {},
   "outputs": [],
   "source": [
    "from line_minimum_intersection import Vector, Line, calculate_minimum_movements"
   ]
  },
  {
   "cell_type": "code",
   "execution_count": 45,
   "id": "9395bff1",
   "metadata": {},
   "outputs": [
    {
     "name": "stdout",
     "output_type": "stream",
     "text": [
      "original vector: [-1, 0, 0]\n",
      "adjusted vector: [-0.86385669  0.07493997 -0.49813213]\n",
      "original vector: [0, -1, 0]\n",
      "adjusted vector: [-0.06158736 -0.83788149 -0.54236668]\n",
      "intersection point:\n",
      "(0.06950191621129605, -0.08319926028140713, 0.6071272729094681)\n"
     ]
    }
   ],
   "source": [
    "lines = []\n",
    "\n",
    "for raw_input in inputs:\n",
    "    print(f\"original vector: {raw_input.dir_vec}\")\n",
    "    adj_dir_vec = adjust_vector(raw_input.pos_vec, raw_input.dir_vec, raw_input.bb_size, raw_input.image_size, horizontal_fov)\n",
    "    print(f\"adjusted vector: {adj_dir_vec}\")\n",
    "    pos_vec = raw_input.pos_vec\n",
    "    lines.append(Line(Vector(pos_vec[0], pos_vec[1], pos_vec[2]), Vector(pos_vec[0]+adj_dir_vec[0], pos_vec[1]+adj_dir_vec[1], pos_vec[2]+adj_dir_vec[2])))\n",
    "\n",
    "movement_vectors = calculate_minimum_movements(lines)\n",
    "\n",
    "print(\"intersection point:\")\n",
    "print(movement_vectors[\"intersection_point\"])\n",
    "\n",
    "# print(\"movement vectors:\")\n",
    "# for vector in movement_vectors[\"movement_vectors\"]:\n",
    "#    print(vector)"
   ]
  },
  {
   "cell_type": "code",
   "execution_count": null,
   "id": "c4565595",
   "metadata": {},
   "outputs": [],
   "source": []
  }
 ],
 "metadata": {
  "kernelspec": {
   "display_name": "Python 3 (ipykernel)",
   "language": "python",
   "name": "python3"
  },
  "language_info": {
   "codemirror_mode": {
    "name": "ipython",
    "version": 3
   },
   "file_extension": ".py",
   "mimetype": "text/x-python",
   "name": "python",
   "nbconvert_exporter": "python",
   "pygments_lexer": "ipython3",
   "version": "3.11.4"
  }
 },
 "nbformat": 4,
 "nbformat_minor": 5
}
